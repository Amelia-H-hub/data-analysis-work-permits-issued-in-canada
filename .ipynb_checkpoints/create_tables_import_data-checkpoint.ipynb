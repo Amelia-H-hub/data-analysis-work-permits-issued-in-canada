{
 "cells": [
  {
   "cell_type": "markdown",
   "id": "4c4ac2d4-3a2d-4931-8243-43436cdfbbc0",
   "metadata": {},
   "source": [
    "# Data Description"
   ]
  },
  {
   "cell_type": "markdown",
   "id": "b736f6ab-3d65-49de-b510-8a8f2d0ce75f",
   "metadata": {},
   "source": [
    "## Temporary Residents: Temporary Foreign Worker Program (TFWP) and International Mobility Program (IMP) Work Permit Holders – Monthly IRCC Updates - Canada - International Mobility Program work permit holders by province/territory of intended destination, intended occupation (4-digit NOC 2011) and year in which permit(s) became effective\n",
    "\n",
    "\n",
    "Source: Government of Canada\n",
    "\n",
    "https://open.canada.ca/data/en/dataset/360024f2-17e9-4558-bfc1-3616485d65b9/resource/f69beec6-4ca6-43e6-96c2-3a87e9ad7c40\n",
    "\n",
    "- Columns:\n",
    "    - EN_YEAR: Year of work permits issued in English\n",
    "    - EN_QUARTER: Quarter of work permits issued in English\n",
    "    - EN_MONTH: Month of work permits issued in English\n",
    "    - FR_ANNEÉ: Year of work permits issued in French\n",
    "    - FR_TRIMESTRE: Quarter of work permits issued in French\n",
    "    - FR_MOIS: Month of work permits issued in French\n",
    "    - EN_PROVINCE_TERRITORY: Province or territory of work permits issued in English\n",
    "    - FR_PROVINCE_TERRITOIRE: Province or territory of work permits issued in French\n",
    "    - EN_OCCUPATION: Job type for work permits in English\n",
    "    - FR_PROFESSION: Job type for work permits in French\n",
    "    - TOTAL: Total of work permits"
   ]
  },
  {
   "cell_type": "markdown",
   "id": "9899e24a-869f-4595-a4e1-f4f6e4385654",
   "metadata": {},
   "source": [
    "## National Occupational Classification (NOC) 2011\n",
    "\n",
    "\n",
    "Source: Government of Canada\n",
    "\n",
    "https://open.canada.ca/data/en/dataset/bc4d5e01-cc19-45f3-bebc-72969b6d4b42\n",
    "\n",
    "- Columns:\n",
    "    - Level: Hierarchical level for job classification\n",
    "    - Hierarchical structure: Hierarchical level name for job classification\n",
    "    - Code: Code of job classification\n",
    "    - Class title: Title of job classification\n",
    "    - Class definition: Definition of job classification"
   ]
  },
  {
   "cell_type": "markdown",
   "id": "af2c4b9e-e5ed-4488-ab74-4a32aa542ffa",
   "metadata": {},
   "source": [
    "# Install required packages"
   ]
  },
  {
   "cell_type": "code",
   "execution_count": 2,
   "id": "a27ed9e8-e09f-4ba7-9b4f-0072652349a8",
   "metadata": {},
   "outputs": [
    {
     "name": "stdout",
     "output_type": "stream",
     "text": [
      "Requirement already satisfied: psycopg2-binary in /opt/anaconda3/lib/python3.12/site-packages (2.9.10)\n",
      "Requirement already satisfied: pandas in /opt/anaconda3/lib/python3.12/site-packages (2.2.2)\n",
      "Requirement already satisfied: numpy>=1.26.0 in /opt/anaconda3/lib/python3.12/site-packages (from pandas) (1.26.4)\n",
      "Requirement already satisfied: python-dateutil>=2.8.2 in /opt/anaconda3/lib/python3.12/site-packages (from pandas) (2.9.0.post0)\n",
      "Requirement already satisfied: pytz>=2020.1 in /opt/anaconda3/lib/python3.12/site-packages (from pandas) (2024.1)\n",
      "Requirement already satisfied: tzdata>=2022.7 in /opt/anaconda3/lib/python3.12/site-packages (from pandas) (2023.3)\n",
      "Requirement already satisfied: six>=1.5 in /opt/anaconda3/lib/python3.12/site-packages (from python-dateutil>=2.8.2->pandas) (1.16.0)\n",
      "\u001b[31mERROR: Could not find a version that satisfies the requirement unicodedata (from versions: none)\u001b[0m\u001b[31m\n",
      "\u001b[0m\u001b[31mERROR: No matching distribution found for unicodedata\u001b[0m\u001b[31m\n",
      "\u001b[0m"
     ]
    }
   ],
   "source": [
    "!pip install psycopg2-binary\n",
    "!pip install pandas\n",
    "!pip install unicodedata"
   ]
  },
  {
   "cell_type": "markdown",
   "id": "b09b925f-9253-4f44-bb9f-102bd29a7874",
   "metadata": {},
   "source": [
    "# Connect the Database"
   ]
  },
  {
   "cell_type": "code",
   "execution_count": 9,
   "id": "4b23cf77-4848-4748-8810-2ee6219ecdfa",
   "metadata": {},
   "outputs": [
    {
     "name": "stdout",
     "output_type": "stream",
     "text": [
      "✅ Connected to the database!\n"
     ]
    }
   ],
   "source": [
    "import psycopg2\n",
    "import pandas as pd\n",
    "import unicodedata\n",
    "\n",
    "conn = psycopg2.connect(\n",
    "    dbname='ds202_final_project',\n",
    "    user='postgres',\n",
    "    password='1q2w',\n",
    "    host='localhost',\n",
    "    port='5432'\n",
    ")\n",
    "\n",
    "cur = conn.cursor()\n",
    "print(\"✅ Connected to the database!\")"
   ]
  },
  {
   "cell_type": "markdown",
   "id": "48a2e1d8-9d57-4e8e-abc0-5952406c4a3a",
   "metadata": {},
   "source": [
    "# Create Tables"
   ]
  },
  {
   "cell_type": "markdown",
   "id": "67b45f4b-a25d-4471-baa6-7f13a6995258",
   "metadata": {},
   "source": [
    "### Create Work Permit Holders Table"
   ]
  },
  {
   "cell_type": "code",
   "execution_count": 3,
   "id": "f4dd6e6f-fc6d-4ac3-8a08-fab2bbc48c42",
   "metadata": {},
   "outputs": [
    {
     "name": "stdout",
     "output_type": "stream",
     "text": [
      "✅ Table created!\n"
     ]
    }
   ],
   "source": [
    "cur.execute(\"\"\"\n",
    "    CREATE TABLE IF NOT EXISTS work_permit_holders (\n",
    "        en_year INTEGER,\n",
    "        en_quarter TEXT,\n",
    "        en_month TEXT,\n",
    "        fr_annee INTEGER,\n",
    "        fr_trimestre TEXT,\n",
    "        fr_mois TEXT,\n",
    "        en_province_territory TEXT,\n",
    "        fr_province_territoire TEXT,\n",
    "        en_occupation TEXT,\n",
    "        fr_profession TEXT,\n",
    "        total INTEGER\n",
    "    );\n",
    "\"\"\")\n",
    "\n",
    "conn.commit()\n",
    "print(\"✅ Table created!\")"
   ]
  },
  {
   "cell_type": "markdown",
   "id": "f3357240-5c61-4bf8-a188-c770843afbdb",
   "metadata": {},
   "source": [
    "### Create National Occupational Classifications Table"
   ]
  },
  {
   "cell_type": "code",
   "execution_count": 4,
   "id": "8819946e-0525-406f-8625-991cd34d9aa8",
   "metadata": {},
   "outputs": [
    {
     "name": "stdout",
     "output_type": "stream",
     "text": [
      "✅ Table created!\n"
     ]
    }
   ],
   "source": [
    "cur.execute(\"\"\"\n",
    "    CREATE TABLE IF NOT EXISTS national_occupational_classifications (\n",
    "        level INTEGER,\n",
    "        hierarchical_structure TEXT,\n",
    "        code TEXT,\n",
    "        class_title TEXT,\n",
    "        class_definition TEXT\n",
    "    );\n",
    "\"\"\")\n",
    "\n",
    "conn.commit()\n",
    "print(\"✅ Table created!\")"
   ]
  },
  {
   "cell_type": "markdown",
   "id": "198062d2-26b6-46e1-a2e3-daf825a4aa86",
   "metadata": {},
   "source": [
    "### Create Canada Regions Table"
   ]
  },
  {
   "cell_type": "code",
   "execution_count": 15,
   "id": "24b8fe8f-4ce6-4fe8-bb98-d43a7a264880",
   "metadata": {},
   "outputs": [
    {
     "name": "stdout",
     "output_type": "stream",
     "text": [
      "✅ Table created!\n"
     ]
    }
   ],
   "source": [
    "cur.execute(\"\"\"\n",
    "    CREATE TABLE IF NOT EXISTS canada_regions (\n",
    "        province TEXT PRIMARY KEY,\n",
    "        region TEXT\n",
    "    );\n",
    "\"\"\")\n",
    "\n",
    "conn.commit()\n",
    "print(\"✅ Table created!\")"
   ]
  },
  {
   "cell_type": "markdown",
   "id": "ddb09c6c-1421-4910-b9e7-04b0887c0d01",
   "metadata": {},
   "source": [
    "### Add New Columns to Canada Region Table"
   ]
  },
  {
   "cell_type": "code",
   "execution_count": 10,
   "id": "670a9279-f8c1-4605-a6c0-9195b991a6ec",
   "metadata": {},
   "outputs": [
    {
     "name": "stdout",
     "output_type": "stream",
     "text": [
      "✅ Columns added!\n"
     ]
    }
   ],
   "source": [
    "cur.execute(\"\"\"\n",
    "    ALTER TABLE canada_regions\n",
    "    ADD COLUMN short_name TEXT,\n",
    "    ADD COLUMN iso_code TEXT;\n",
    "\"\"\")\n",
    "\n",
    "conn.commit()\n",
    "print(\"✅ Columns added!\")"
   ]
  },
  {
   "cell_type": "code",
   "execution_count": 5,
   "id": "a3062793-2f5a-40d7-8a46-7819de7dd490",
   "metadata": {},
   "outputs": [
    {
     "name": "stdout",
     "output_type": "stream",
     "text": [
      "/Users/amelia/Data_Science/DS202/Week3/final_project\n"
     ]
    }
   ],
   "source": [
    "import os\n",
    "print(os.getcwd())"
   ]
  },
  {
   "cell_type": "markdown",
   "id": "d88bf2fe-1d18-4c5c-af24-37faa5061865",
   "metadata": {},
   "source": [
    "# Import Data from CSV Files"
   ]
  },
  {
   "cell_type": "markdown",
   "id": "ea479076-2f48-4e87-b3c1-5686e25d9ab7",
   "metadata": {},
   "source": [
    "### Import Work Permit Holders Data"
   ]
  },
  {
   "cell_type": "code",
   "execution_count": 6,
   "id": "a9867f29-7bd7-4792-bd78-a056cdf63496",
   "metadata": {},
   "outputs": [],
   "source": [
    "df = pd.read_csv(\"data/ODP-TR-Work-IMP-PT_NOC4.csv\", sep='\\t')\n",
    "# transfer columns' name to lower case\n",
    "df.columns = df.columns.str.lower()\n",
    "\n",
    "# remove accents in frence\n",
    "def remove_accents(text):\n",
    "    nfkd_form = unicodedata.normalize('NFKD', text)\n",
    "    return \"\".join([c for c in nfkd_form if not unicodedata.combining(c)])\n",
    "df.columns = df.columns.map(remove_accents)\n",
    "\n",
    "# transfer -- in total to 0\n",
    "df[\"total\"] = df[\"total\"].apply(lambda x: 0 if x == '--' else x)\n",
    "df[\"total\"] = pd.to_numeric(df[\"total\"])\n",
    "print(df[\"total\"])\n",
    "\n",
    "for _, row in df.iterrows():\n",
    "    try:\n",
    "        cur.execute(\"\"\"\n",
    "            INSERT INTO work_permit_holders (en_year, en_quarter, en_month, fr_annee, fr_trimestre, fr_mois, en_province_territory, fr_province_territoire, en_occupation, fr_profession, total)\n",
    "            VALUES (%s, %s, %s, %s, %s, %s, %s, %s, %s, %s, %s)\n",
    "        \"\"\", (row['en_year'], row['en_quarter'], row['en_month'], row['fr_annee'], row['fr_trimestre'], row['fr_mois'], row['en_province_territory'], row['fr_province_territoire'], row['en_occupation'], row['fr_profession'], row['total']))\n",
    "    except Exception as e:\n",
    "        print(f\"Error on row {_}: {e}\")\n",
    "        conn.rollback()\n",
    "    else:\n",
    "        conn.commit()"
   ]
  },
  {
   "cell_type": "markdown",
   "id": "1a617cbd-234c-4768-b172-2a96bbe9610b",
   "metadata": {},
   "source": [
    "### Import National Occupational Classifications Data"
   ]
  },
  {
   "cell_type": "code",
   "execution_count": 4,
   "id": "5446f9be-e40e-4e95-ace2-311222ef5fe0",
   "metadata": {},
   "outputs": [
    {
     "name": "stdout",
     "output_type": "stream",
     "text": [
      "✅ CSV data imported!\n"
     ]
    }
   ],
   "source": [
    "df_noc = pd.read_csv(\"data/noc-cnp-2011-structure-eng.csv\", encoding='latin1')\n",
    "# transfer columns' name to lower case and replace ' ' with '_'\n",
    "df_noc.columns = df_noc.columns.str.lower().str.replace(' ', '_')\n",
    "\n",
    "df_noc[\"level\"] = pd.to_numeric(df_noc[\"level\"])\n",
    "\n",
    "\n",
    "for _, row in df_noc.iterrows():\n",
    "    try:\n",
    "        cur.execute(\"\"\"\n",
    "            INSERT INTO national_occupational_classifications (level, hierarchical_structure, code, class_title, class_definition)\n",
    "            VALUES (%s, %s, %s, %s, %s)\n",
    "        \"\"\", (row['level'], row['hierarchical_structure'], row['code'], row['class_title'], row['class_definition']))\n",
    "    except Exception as e:\n",
    "        print(f\"Error on row {_}: {e}\")\n",
    "        conn.rollback()\n",
    "    else:\n",
    "        conn.commit()\n",
    "print(\"✅ CSV data imported!\")"
   ]
  },
  {
   "cell_type": "markdown",
   "id": "b8d6363c-dad5-410f-bdba-ed3596e49184",
   "metadata": {},
   "source": [
    "### Import Canada Regions Data"
   ]
  },
  {
   "cell_type": "code",
   "execution_count": 18,
   "id": "f4f3611c-bdaa-4d1b-aee1-3e2a54c285ae",
   "metadata": {},
   "outputs": [
    {
     "name": "stdout",
     "output_type": "stream",
     "text": [
      "✅ CSV data imported!\n"
     ]
    }
   ],
   "source": [
    "import csv\n",
    "\n",
    "with open(\"data/canada_regions.csv\", 'r') as f:\n",
    "    next(f) # skip header\n",
    "    reader = csv.reader(f)\n",
    "    for row in reader:\n",
    "        cur.execute(\"\"\"\n",
    "            INSERT INTO canada_regions (province, region)\n",
    "            VALUES (%s, %s)\n",
    "            ON CONFLICT (province) DO NOTHING;\n",
    "        \"\"\", row)\n",
    "# %s is a parameter placeholder. It's used to tell the database: Here will give you a value\n",
    "\n",
    "conn.commit()\n",
    "print(\"✅ CSV data imported!\")"
   ]
  },
  {
   "cell_type": "markdown",
   "id": "441084bc-d917-4d31-b945-0789ce160fe8",
   "metadata": {},
   "source": [
    "### Update Canada Regions Data"
   ]
  },
  {
   "cell_type": "code",
   "execution_count": 12,
   "id": "3a19cae3-d9a4-4e9c-9d45-e0ff5b65e2c7",
   "metadata": {},
   "outputs": [
    {
     "name": "stdout",
     "output_type": "stream",
     "text": [
      "✅ Data updated!\n"
     ]
    }
   ],
   "source": [
    "import csv\n",
    "\n",
    "with open(\"data/canada_regions.csv\", 'r') as f:\n",
    "    reader = csv.DictReader(f)\n",
    "    for row in reader:\n",
    "        cur.execute(\"\"\"\n",
    "            UPDATE canada_regions\n",
    "            SET short_name = %s,\n",
    "                iso_code = %s\n",
    "            WHERE province = %s;\n",
    "        \"\"\", (row[\"short_name\"], row[\"iso_code\"], row[\"province\"]))\n",
    "\n",
    "conn.commit()\n",
    "print(\"✅ Data updated!\")"
   ]
  },
  {
   "cell_type": "markdown",
   "id": "9a711f9d-10b1-49f1-99c2-f8a5e38d8b52",
   "metadata": {},
   "source": [
    "### Update en_occupation column in work_permit_holders"
   ]
  },
  {
   "cell_type": "code",
   "execution_count": 8,
   "id": "ebcfdc1a-5731-48f6-81b3-c079b7ef00be",
   "metadata": {},
   "outputs": [],
   "source": [
    "cur.execute(\"\"\"\n",
    "    UPDATE work_permit_holders\n",
    "    SET en_occupation = LEFT(en_occupation, 4)\n",
    "\"\"\")\n",
    "\n",
    "conn.commit()"
   ]
  }
 ],
 "metadata": {
  "kernelspec": {
   "display_name": "Python [conda env:base] *",
   "language": "python",
   "name": "conda-base-py"
  },
  "language_info": {
   "codemirror_mode": {
    "name": "ipython",
    "version": 3
   },
   "file_extension": ".py",
   "mimetype": "text/x-python",
   "name": "python",
   "nbconvert_exporter": "python",
   "pygments_lexer": "ipython3",
   "version": "3.12.7"
  }
 },
 "nbformat": 4,
 "nbformat_minor": 5
}
